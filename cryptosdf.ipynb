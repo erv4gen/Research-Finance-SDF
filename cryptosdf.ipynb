{
  "nbformat": 4,
  "nbformat_minor": 0,
  "metadata": {
    "orig_nbformat": 2,
    "colab": {
      "name": "cryptosdf_to_notebook.ipynb",
      "provenance": [],
      "collapsed_sections": []
    },
    "language_info": {
      "name": "python",
      "version": "3.6.13"
    },
    "kernelspec": {
      "name": "python3613jvsc74a57bd0d161824268028ca2e4294ec8d51508ba76df6bffef70bd3991514f5e8116b531",
      "display_name": "Python 3.6.13 64-bit ('augtr': conda)"
    },
    "metadata": {
      "interpreter": {
        "hash": "d161824268028ca2e4294ec8d51508ba76df6bffef70bd3991514f5e8116b531"
      }
    }
  },
  "cells": [
    {
      "cell_type": "code",
      "metadata": {
        "colab": {
          "base_uri": "https://localhost:8080/"
        },
        "id": "XVO2zr5bLJUb",
        "outputId": "96d4242c-a839-4397-b44c-68d39a7fe3ad"
      },
      "source": [
        "import sys\n",
        "#Python versiond\n",
        "print(sys.version)"
      ],
      "execution_count": 1,
      "outputs": [
        {
          "output_type": "stream",
          "text": [
            "3.7.10 (default, May  3 2021, 02:48:31) \n",
            "[GCC 7.5.0]\n"
          ],
          "name": "stdout"
        }
      ]
    },
    {
      "cell_type": "code",
      "metadata": {
        "id": "P6fjUwxHLMe4",
        "colab": {
          "base_uri": "https://localhost:8080/"
        },
        "outputId": "f66b32ef-5e74-4ef6-fa7d-022604424fb7"
      },
      "source": [
        "#install requirements if needed\n",
        "!pip install pandas cvxpy=1.0.31 matplotlib"
      ],
      "execution_count": 2,
      "outputs": [
        {
          "output_type": "stream",
          "text": [
            "Requirement already satisfied: pandas in /usr/local/lib/python3.7/dist-packages (1.1.5)\n",
            "Requirement already satisfied: cvxpy in /usr/local/lib/python3.7/dist-packages (1.0.31)\n",
            "Requirement already satisfied: tqdm in /usr/local/lib/python3.7/dist-packages (4.41.1)\n",
            "Requirement already satisfied: numpy>=1.15.4 in /usr/local/lib/python3.7/dist-packages (from pandas) (1.19.5)\n",
            "Requirement already satisfied: python-dateutil>=2.7.3 in /usr/local/lib/python3.7/dist-packages (from pandas) (2.8.1)\n",
            "Requirement already satisfied: pytz>=2017.2 in /usr/local/lib/python3.7/dist-packages (from pandas) (2018.9)\n",
            "Requirement already satisfied: scs>=1.1.3 in /usr/local/lib/python3.7/dist-packages (from cvxpy) (2.1.3)\n",
            "Requirement already satisfied: multiprocess in /usr/local/lib/python3.7/dist-packages (from cvxpy) (0.70.11.1)\n",
            "Requirement already satisfied: osqp>=0.4.1 in /usr/local/lib/python3.7/dist-packages (from cvxpy) (0.6.2.post0)\n",
            "Requirement already satisfied: ecos>=2 in /usr/local/lib/python3.7/dist-packages (from cvxpy) (2.0.7.post1)\n",
            "Requirement already satisfied: scipy>=1.1.0 in /usr/local/lib/python3.7/dist-packages (from cvxpy) (1.4.1)\n",
            "Requirement already satisfied: six>=1.5 in /usr/local/lib/python3.7/dist-packages (from python-dateutil>=2.7.3->pandas) (1.15.0)\n",
            "Requirement already satisfied: dill>=0.3.3 in /usr/local/lib/python3.7/dist-packages (from multiprocess->cvxpy) (0.3.3)\n",
            "Requirement already satisfied: qdldl in /usr/local/lib/python3.7/dist-packages (from osqp>=0.4.1->cvxpy) (0.1.5.post0)\n"
          ],
          "name": "stdout"
        }
      ]
    },
    {
      "cell_type": "code",
      "metadata": {
        "id": "MrPfwTmGLJUc",
        "colab": {
          "base_uri": "https://localhost:8080/"
        },
        "outputId": "4d381114-f1fe-478f-c4aa-7cdeaa62b012"
      },
      "source": [
        "#import modules\n",
        "import cvxpy as cp\n",
        "import pandas_datareader as pdr\n",
        "import numpy as np\n",
        "import matplotlib.pyplot as plt\n",
        "\n",
        "import pandas as pd\n",
        "import math\n",
        "import os.path\n",
        "import time\n",
        "\n",
        "print(cp.__version__)"
      ],
      "execution_count": 50,
      "outputs": [
        {
          "output_type": "stream",
          "text": [
            "1.0.31\n"
          ],
          "name": "stdout"
        }
      ]
    },
    {
      "cell_type": "code",
      "metadata": {
        "colab": {
          "base_uri": "https://localhost:8080/",
          "height": 293
        },
        "id": "LLJQtt2JR9Yi",
        "outputId": "192f1dd9-6ced-430e-b9ec-17676ab24dbc"
      },
      "source": [
        "#read input dataset that was downladed from the binance \n",
        "fuldf = pd.read_pickle('data.pickle')\n",
        "\n",
        "total_size = fuldf.shape[0]\n",
        "print('Combined DF size:', total_size,'\\nFull range: ', fuldf.iloc[0].name,fuldf.iloc[-1].name)\n",
        "train_set = .5\n",
        "\n",
        "train_id = int( total_size * train_set)\n",
        "df_train = fuldf.iloc[:train_id]\n",
        "df_test = fuldf.iloc[train_id:]\n",
        "print('Training period: ', df_train.iloc[0].name,df_train.iloc[-1].name)\n",
        "df_train.head()"
      ],
      "execution_count": 5,
      "outputs": [
        {
          "output_type": "stream",
          "text": [
            "Combined DF size: 1280 \n",
            "Full range:  2017-12-13 00:00:00 2021-06-14 00:00:00\n",
            "Training period:  2017-12-13 00:00:00 2019-09-13 00:00:00\n"
          ],
          "name": "stdout"
        },
        {
          "output_type": "execute_result",
          "data": {
            "text/html": [
              "<div>\n",
              "<style scoped>\n",
              "    .dataframe tbody tr th:only-of-type {\n",
              "        vertical-align: middle;\n",
              "    }\n",
              "\n",
              "    .dataframe tbody tr th {\n",
              "        vertical-align: top;\n",
              "    }\n",
              "\n",
              "    .dataframe thead th {\n",
              "        text-align: right;\n",
              "    }\n",
              "</style>\n",
              "<table border=\"1\" class=\"dataframe\">\n",
              "  <thead>\n",
              "    <tr style=\"text-align: right;\">\n",
              "      <th></th>\n",
              "      <th>BTCUSDT</th>\n",
              "      <th>ETHUSDT</th>\n",
              "      <th>BNBUSDT</th>\n",
              "      <th>LTCUSDT</th>\n",
              "    </tr>\n",
              "    <tr>\n",
              "      <th>timestamp</th>\n",
              "      <th></th>\n",
              "      <th></th>\n",
              "      <th></th>\n",
              "      <th></th>\n",
              "    </tr>\n",
              "  </thead>\n",
              "  <tbody>\n",
              "    <tr>\n",
              "      <th>2017-12-13</th>\n",
              "      <td>16033.29</td>\n",
              "      <td>683.99</td>\n",
              "      <td>2.7190</td>\n",
              "      <td>290.01</td>\n",
              "    </tr>\n",
              "    <tr>\n",
              "      <th>2017-12-14</th>\n",
              "      <td>16334.98</td>\n",
              "      <td>679.76</td>\n",
              "      <td>3.1519</td>\n",
              "      <td>272.40</td>\n",
              "    </tr>\n",
              "    <tr>\n",
              "      <th>2017-12-15</th>\n",
              "      <td>17539.83</td>\n",
              "      <td>674.95</td>\n",
              "      <td>4.1200</td>\n",
              "      <td>294.00</td>\n",
              "    </tr>\n",
              "    <tr>\n",
              "      <th>2017-12-16</th>\n",
              "      <td>19102.66</td>\n",
              "      <td>682.81</td>\n",
              "      <td>4.6378</td>\n",
              "      <td>293.97</td>\n",
              "    </tr>\n",
              "    <tr>\n",
              "      <th>2017-12-17</th>\n",
              "      <td>18860.02</td>\n",
              "      <td>707.64</td>\n",
              "      <td>5.9990</td>\n",
              "      <td>311.40</td>\n",
              "    </tr>\n",
              "  </tbody>\n",
              "</table>\n",
              "</div>"
            ],
            "text/plain": [
              "             BTCUSDT  ETHUSDT  BNBUSDT  LTCUSDT\n",
              "timestamp                                      \n",
              "2017-12-13  16033.29   683.99   2.7190   290.01\n",
              "2017-12-14  16334.98   679.76   3.1519   272.40\n",
              "2017-12-15  17539.83   674.95   4.1200   294.00\n",
              "2017-12-16  19102.66   682.81   4.6378   293.97\n",
              "2017-12-17  18860.02   707.64   5.9990   311.40"
            ]
          },
          "metadata": {
            "tags": []
          },
          "execution_count": 5
        }
      ]
    },
    {
      "cell_type": "code",
      "metadata": {
        "id": "3Czi-hRhLJUe"
      },
      "source": [
        "#Transform raw data to log-return format:\n",
        "lret_data = np.log1p(df_train.pct_change()).dropna(axis=0,how='any')"
      ],
      "execution_count": 8,
      "outputs": []
    },
    {
      "cell_type": "code",
      "metadata": {
        "id": "hW48zI-ILJUf",
        "colab": {
          "base_uri": "https://localhost:8080/"
        },
        "outputId": "54c122ef-fc9d-451a-aa96-565f8ffb0246"
      },
      "source": [
        "#3 - SDF Estimation from BTC\n",
        "#Using the above dataset we can estimate the SDF for BTC using \n",
        "# ETH, DJI, and CHY as factors.\n",
        "#I will use cvxpy as a esetimator\n",
        "\n",
        "y_label = fuldf.columns[0]\n",
        "factors = fuldf.columns[1:].tolist()\n",
        "R = lret_data[y_label].shift(1).iloc[1:].values.reshape((-1,1))\n",
        "I = lret_data[factors].iloc[1:].values\n",
        "assert R.shape[0] == I.shape[0] and I.shape[1]==3\n",
        "\n",
        "print('R:',R.shape,'\\n',R[:10]\n",
        ",'\\n I:',I.shape,'\\n',I[:10,:])"
      ],
      "execution_count": 17,
      "outputs": [
        {
          "output_type": "stream",
          "text": [
            "R: (638, 1) \n",
            " [[ 0.01864163]\n",
            " [ 0.07116547]\n",
            " [ 0.0853533 ]\n",
            " [-0.01278325]\n",
            " [-0.00019991]\n",
            " [-0.08641542]\n",
            " [-0.04773673]\n",
            " [-0.06232721]\n",
            " [-0.15060228]\n",
            " [-0.00199875]] \n",
            " I: (638, 3) \n",
            " [[-7.10118064e-03  2.67847718e-01  7.63081931e-02]\n",
            " [ 1.15780223e-02  1.18386953e-01 -1.02046023e-04]\n",
            " [ 3.57188534e-02  2.57352673e-01  5.76005381e-02]\n",
            " [ 1.02473531e-01  1.66680557e-04  1.22552916e-01]\n",
            " [ 1.76995771e-02 -5.13108384e-02 -3.91661692e-02]\n",
            " [-9.80986453e-03 -1.01413082e-01 -1.11722790e-01]\n",
            " [-9.91983310e-03  1.82350824e-03 -2.31519865e-03]\n",
            " [-2.07227507e-01 -1.84292643e-01 -1.85013920e-01]\n",
            " [ 6.84789287e-03  2.50381268e-02  9.71401093e-03]\n",
            " [ 2.72056460e-02  1.63393547e-01  3.66466231e-02]]\n"
          ],
          "name": "stdout"
        }
      ]
    },
    {
      "cell_type": "code",
      "metadata": {
        "colab": {
          "base_uri": "https://localhost:8080/",
          "height": 175
        },
        "id": "mov7bsEVb5Fb",
        "outputId": "2cfa8559-4809-4e11-9d68-898844a564a0"
      },
      "source": [
        "#correlation matrix\n",
        "F= pd.concat([pd.DataFrame(R),pd.DataFrame(I)],axis=1)\n",
        "F.columns =   [y_label]+factors\n",
        "F.cov()"
      ],
      "execution_count": 19,
      "outputs": [
        {
          "output_type": "execute_result",
          "data": {
            "text/html": [
              "<div>\n",
              "<style scoped>\n",
              "    .dataframe tbody tr th:only-of-type {\n",
              "        vertical-align: middle;\n",
              "    }\n",
              "\n",
              "    .dataframe tbody tr th {\n",
              "        vertical-align: top;\n",
              "    }\n",
              "\n",
              "    .dataframe thead th {\n",
              "        text-align: right;\n",
              "    }\n",
              "</style>\n",
              "<table border=\"1\" class=\"dataframe\">\n",
              "  <thead>\n",
              "    <tr style=\"text-align: right;\">\n",
              "      <th></th>\n",
              "      <th>BTCUSDT</th>\n",
              "      <th>ETHUSDT</th>\n",
              "      <th>BNBUSDT</th>\n",
              "      <th>LTCUSDT</th>\n",
              "    </tr>\n",
              "  </thead>\n",
              "  <tbody>\n",
              "    <tr>\n",
              "      <th>BTCUSDT</th>\n",
              "      <td>0.001834</td>\n",
              "      <td>-0.000171</td>\n",
              "      <td>-0.000079</td>\n",
              "      <td>-0.000171</td>\n",
              "    </tr>\n",
              "    <tr>\n",
              "      <th>ETHUSDT</th>\n",
              "      <td>-0.000171</td>\n",
              "      <td>0.002841</td>\n",
              "      <td>0.002086</td>\n",
              "      <td>0.002459</td>\n",
              "    </tr>\n",
              "    <tr>\n",
              "      <th>BNBUSDT</th>\n",
              "      <td>-0.000079</td>\n",
              "      <td>0.002086</td>\n",
              "      <td>0.004515</td>\n",
              "      <td>0.002260</td>\n",
              "    </tr>\n",
              "    <tr>\n",
              "      <th>LTCUSDT</th>\n",
              "      <td>-0.000171</td>\n",
              "      <td>0.002459</td>\n",
              "      <td>0.002260</td>\n",
              "      <td>0.003091</td>\n",
              "    </tr>\n",
              "  </tbody>\n",
              "</table>\n",
              "</div>"
            ],
            "text/plain": [
              "          BTCUSDT   ETHUSDT   BNBUSDT   LTCUSDT\n",
              "BTCUSDT  0.001834 -0.000171 -0.000079 -0.000171\n",
              "ETHUSDT -0.000171  0.002841  0.002086  0.002459\n",
              "BNBUSDT -0.000079  0.002086  0.004515  0.002260\n",
              "LTCUSDT -0.000171  0.002459  0.002260  0.003091"
            ]
          },
          "metadata": {
            "tags": []
          },
          "execution_count": 19
        }
      ]
    },
    {
      "cell_type": "code",
      "metadata": {
        "id": "HFAjd_WHLJUf",
        "colab": {
          "base_uri": "https://localhost:8080/"
        },
        "outputId": "410d4f44-70cd-4c12-9588-0d9c87f7748d"
      },
      "source": [
        "#4 - Solve GMM problem\n",
        "n = R.shape[0]\n",
        "#define weights for the SDF\n",
        "w = cp.Variable(shape=(3,1),nonneg=True)\n",
        "\n",
        "#define SDF \n",
        "M = I @ w\n",
        "\n",
        "#Define expression\n",
        "Sigma = M @ R.T\n",
        "\n",
        "#Construct the problem\n",
        "prob = cp.Problem(cp.Minimize( cp.norm(Sigma)  )\n",
        "                  # , [cp.geo_mean(M) >= 1 , ]\n",
        "                 , [cp.sum(w) == 1 , ]\n",
        "                  \n",
        "                )\n",
        "\n",
        "prob.solve(verbose=True\n",
        "           #, max_iters = 300\n",
        "           )\n",
        "\n",
        "print('SDF weights from BTC:\\n',w.value)"
      ],
      "execution_count": 20,
      "outputs": [
        {
          "output_type": "stream",
          "text": [
            "----------------------------------------------------------------------------\n",
            "\tSCS v2.1.3 - Splitting Conic Solver\n",
            "\t(c) Brendan O'Donoghue, Stanford University, 2012\n",
            "----------------------------------------------------------------------------\n",
            "Lin-sys: sparse-direct, nnz in A = 3257634\n",
            "eps = 1.00e-04, alpha = 1.50, max_iters = 5000, normalize = 1, scale = 1.00\n",
            "acceleration_lookback = 10, rho_x = 1.00e-03\n",
            "Variables n = 814730, constraints m = 2035862\n",
            "Cones:\tprimal zero / dual free vars: 1221133\n",
            "\tlinear vars: 3\n",
            "\tsd vars: 814726, sd blks: 1\n",
            "Setup time: 4.16e+00s\n",
            "----------------------------------------------------------------------------\n",
            " Iter | pri res | dua res | rel gap | pri obj | dua obj | kap/tau | time (s)\n",
            "----------------------------------------------------------------------------\n",
            "     0| 2.53e+21  7.88e+21  1.00e+00 -1.12e+19  1.39e+22  2.51e+21  3.24e+00 \n",
            "    60| 2.09e-08  2.83e-07  6.12e-09  1.39e+00  1.39e+00  2.63e-18  5.34e+01 \n",
            "----------------------------------------------------------------------------\n",
            "Status: Solved\n",
            "Timing: Solve time: 5.35e+01s\n",
            "\tLin-sys: nnz in L factor: 7328723, avg solve time: 6.17e-02s\n",
            "\tCones: avg projection time: 3.26e-01s\n",
            "\tAcceleration: avg step time: 3.88e-01s\n",
            "----------------------------------------------------------------------------\n",
            "Error metrics:\n",
            "dist(s, K) = 1.1669e-17, dist(y, K*) = 1.0845e-09, s'y/|s||y| = 7.4086e-14\n",
            "primal res: |Ax + s - b|_2 / (1 + |b|_2) = 2.0880e-08\n",
            "dual res:   |A'y + c|_2 / (1 + |c|_2) = 2.8258e-07\n",
            "rel gap:    |c'x + b'y| / (1 + |c'x| + |b'y|) = 6.1217e-09\n",
            "----------------------------------------------------------------------------\n",
            "c'x = 1.3897, -b'y = 1.3897\n",
            "============================================================================\n",
            "SDF weights from BTC:\n",
            " [[0.53708914]\n",
            " [0.19152409]\n",
            " [0.27138677]]\n"
          ],
          "name": "stdout"
        }
      ]
    },
    {
      "cell_type": "code",
      "metadata": {
        "id": "meptfIaYm0MN"
      },
      "source": [
        "'''\n",
        "Calculate perofrmance of the model on the test data \n",
        "'''\n",
        "#calculate return of the target variable (BTCUSDT)\n",
        "y_return = (df_test[y_label].pct_change().fillna(0)+1).cumprod()\n",
        "\n"
      ],
      "execution_count": 66,
      "outputs": []
    },
    {
      "cell_type": "code",
      "metadata": {
        "id": "FrcqaMldIi3p"
      },
      "source": [
        "portfolio = df_test[factors].apply(lambda x: (x @ w.value)[0] ,axis =1)\n",
        "\n",
        "p_return = ((portfolio.pct_change().fillna(0) + 1).cumprod()).rename('SDF Portfolio')"
      ],
      "execution_count": 76,
      "outputs": []
    },
    {
      "cell_type": "code",
      "metadata": {
        "colab": {
          "base_uri": "https://localhost:8080/",
          "height": 361
        },
        "id": "B1Z1Yi7zJeJo",
        "outputId": "683ac92d-189a-4c43-e168-c43609b1373a"
      },
      "source": [
        "fig , ax = plt.subplots(figsize=(13,5))\n",
        "portfolio_benchmark = pd.concat([y_return,p_return],axis=1)\n",
        "portfolio_benchmark.plot(ax=ax);\n",
        "ax.set(title='Performance of the SDF Portfolio Compared with the Benchmark (BTCUSDT)',ylabel='x times',xlabel='date');"
      ],
      "execution_count": 82,
      "outputs": [
        {
          "output_type": "display_data",
          "data": {
            "image/png": "[encoded data removed]",
            "text/plain": [
              "<Figure size 936x360 with 1 Axes>"
            ]
          },
          "metadata": {
            "tags": [],
            "needs_background": "light"
          }
        }
      ]
    },
    {
      "cell_type": "code",
      "metadata": {
        "colab": {
          "base_uri": "https://localhost:8080/"
        },
        "id": "x9AUv11OL3Qt",
        "outputId": "54f4bbe7-205e-4287-f9a3-cb2847db7c97"
      },
      "source": [
        "print('Portfolio growth (x times):\\n',\n",
        "(portfolio_benchmark.iloc[-1] - 1).round(2).to_dict())"
      ],
      "execution_count": 86,
      "outputs": [
        {
          "output_type": "stream",
          "text": [
            "Portfolio growth (x times):\n",
            " {'BTCUSDT': 2.93, 'SDF Portfolio': 11.02}\n"
          ],
          "name": "stdout"
        }
      ]
    },
    {
      "cell_type": "code",
      "metadata": {
        "id": "a1YYfvkvNSeN"
      },
      "source": [
        ""
      ],
      "execution_count": null,
      "outputs": []
    }
  ]
}